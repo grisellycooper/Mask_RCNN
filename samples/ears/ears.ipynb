{
 "cells": [
  {
   "cell_type": "code",
   "execution_count": 63,
   "metadata": {},
   "outputs": [],
   "source": [
    "import os\n",
    "import sys\n",
    "import json\n",
    "import datetime\n",
    "import numpy as np\n",
    "import skimage.draw\n",
    "\n",
    "# Root directory of the project\n",
    "ROOT_DIR = os.path.abspath(\"../../\")\n",
    "\n",
    "# Import Mask RCNN\n",
    "sys.path.append(ROOT_DIR)  # To find local version of the library\n",
    "from mrcnn.config import Config\n",
    "from mrcnn import model as modellib, utils\n",
    "\n",
    "# Path to trained weights file\n",
    "#COCO_WEIGHTS_PATH = os.path.join(ROOT_DIR, \"mask_rcnn_coco.h5\")\n",
    "\n",
    "# Directory to save logs and model checkpoints, if not provided\n",
    "# through the command line argument --logs\n",
    "DEFAULT_LOGS_DIR = os.path.join(ROOT_DIR, \"logs\")"
   ]
  },
  {
   "cell_type": "markdown",
   "metadata": {},
   "source": [
    "### Configuration"
   ]
  },
  {
   "cell_type": "code",
   "execution_count": 64,
   "metadata": {},
   "outputs": [],
   "source": [
    "class EarConfig(Config):\n",
    "    \"\"\"Configuration for training on the AWE dataset.\n",
    "    Derives from the base Config class and overrides some values.\n",
    "    \"\"\"\n",
    "    # Give the configuration a recognizable name\n",
    "    NAME = \"ear\"\n",
    "\n",
    "    # We use a GPU with 12GB memory, which can fit two images.\n",
    "    # Adjust down if you use a smaller GPU.\n",
    "    IMAGES_PER_GPU = 1\n",
    "\n",
    "    # Number of classes (including background)\n",
    "    NUM_CLASSES = 1 + 1  # Background + ear\n",
    "\n",
    "    # Number of training steps per epoch\n",
    "    #STEPS_PER_EPOCH = 50\n",
    "\n",
    "    # Backbone network architecture\n",
    "    # Supported values are: resnet50, resnet101\n",
    "    #BACKBONE = \"resnet50\"\n"
   ]
  },
  {
   "cell_type": "markdown",
   "metadata": {},
   "source": [
    "### Dataset"
   ]
  },
  {
   "cell_type": "code",
   "execution_count": 65,
   "metadata": {},
   "outputs": [],
   "source": [
    "class EarDataset(utils.Dataset):\n",
    "\n",
    "    def load_ear(self, dataset_dir, subset):\n",
    "        \"\"\"Load a subset of the AWE ear dataset.\n",
    "        dataset_dir: Root directory of the dataset.\n",
    "        subset: Subset to load: train or test    \n",
    "        \"\"\"\n",
    "        \n",
    "        # Add classes. We only have one class.\n",
    "        self.add_class(\"ear\", 1, \"ear\")\n",
    "        \n",
    "        # Assert folders train and test in dataset path\n",
    "        assert subset in [\"train\", \"test\"]\n",
    "        dataset_dir = os.path.join(dataset_dir, subset)\n",
    "        mask_dir = os.path.join(dataset_dir, \"trainannot\")\n",
    "        \n",
    "        images = []\n",
    "        for (dirpath, dirnames, filenames) in walk(dataset_dir):    \n",
    "            images.extend(filenames)       \n",
    "            break\n",
    "                \n",
    "        for filename in images:\n",
    "            image_path = os.path.join(dataset_dir, filename)\n",
    "            mask_path = os.path.join(mask_dir, filename)\n",
    "            img = skimage.io.imread(image_path)\n",
    "            height, width = img.shape[:2]            \n",
    "            self.add_image(\n",
    "                \"ear\",\n",
    "                image_id=os.path.splitext(filename)[0],\n",
    "                path=image_path,\n",
    "                width=width, \n",
    "                height=height, \n",
    "                mask=mask_path\n",
    "            )\n",
    "        \n",
    "    def load_mask(self, image_id):\n",
    "        \"\"\"Generate instance masks for an image.\n",
    "        Returns:\n",
    "        masks: A bool array of shape [height, width, instance count] with\n",
    "            one mask per instance.\n",
    "        class_ids: a 1D array of class IDs of the instance masks.\n",
    "        \"\"\"\n",
    "        # If not a ear dataset image, delegate to parent class.\n",
    "        image_info = self.image_info[image_id]\n",
    "        if image_info[\"source\"] != \"ear\":\n",
    "            return super(self.__class__, self).load_mask(image_id)\n",
    "        \n",
    "        # Get a mask per instance        \n",
    "        info = self.image_info[image_id]\n",
    "        #mask = np.zeros([info[\"height\"], info[\"width\"], (#number_instances)], dtype=np.uint8)\n",
    "        #mask = np.zeros([info[\"height\"], info[\"width\"], 1], dtype=np.uint8)\n",
    "        \n",
    "        # Read mask files from .png image\n",
    "        mask = []\n",
    "        #for i in instances  \n",
    "        m = skimage.io.imread(info[\"mask\"]).astype(np.bool)\n",
    "        mask.append(m)\n",
    "        \n",
    "        mask = np.stack(mask, axis=-1)\n",
    "        # Return mask, and array of class IDs of each instance. Since we have\n",
    "        # one class ID only, we return an array of 1s\n",
    "        return mask, np.ones([mask.shape[-1]], dtype=np.int32)\n",
    "\n",
    "    def image_reference(self, image_id):\n",
    "        \"\"\"Return the path of the image.\"\"\"\n",
    "        info = self.image_info[image_id]\n",
    "        if info[\"source\"] == \"ear\":\n",
    "            return info[\"path\"]\n",
    "        else:\n",
    "            super(self.__class__, self).image_reference(image_id)"
   ]
  },
  {
   "cell_type": "markdown",
   "metadata": {},
   "source": [
    "### Training"
   ]
  },
  {
   "cell_type": "code",
   "execution_count": 66,
   "metadata": {},
   "outputs": [],
   "source": [
    "def train(model):\n",
    "    \"\"\"Train the model.\"\"\"\n",
    "    # Training dataset.\n",
    "    dataset_train = EarDataset()\n",
    "    dataset_train.load_ear(args.dataset, \"train\")\n",
    "    dataset_train.prepare()\n",
    "\n",
    "    # Validation dataset\n",
    "    dataset_val = EarDataset()\n",
    "    dataset_val.load_ear(args.dataset, \"test\")\n",
    "    dataset_val.prepare()\n",
    "\n",
    "    # *** This training schedule is an example. Update to your needs ***\n",
    "    # Since we're using a very small dataset, and starting from\n",
    "    # COCO trained weights, we don't need to train too long. Also,\n",
    "    # no need to train all layers, just the heads should do it.\n",
    "    print(\"Training network heads\")\n",
    "    model.train(dataset_train, dataset_val,\n",
    "                learning_rate=config.LEARNING_RATE,\n",
    "                epochs=30,\n",
    "                layers='heads')"
   ]
  },
  {
   "cell_type": "code",
   "execution_count": null,
   "metadata": {},
   "outputs": [],
   "source": []
  }
 ],
 "metadata": {
  "kernelspec": {
   "display_name": "Python 3",
   "language": "python",
   "name": "python3"
  },
  "language_info": {
   "codemirror_mode": {
    "name": "ipython",
    "version": 3
   },
   "file_extension": ".py",
   "mimetype": "text/x-python",
   "name": "python",
   "nbconvert_exporter": "python",
   "pygments_lexer": "ipython3",
   "version": "3.6.7"
  }
 },
 "nbformat": 4,
 "nbformat_minor": 2
}
