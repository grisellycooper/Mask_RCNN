{
 "cells": [
  {
   "cell_type": "code",
   "execution_count": 8,
   "metadata": {},
   "outputs": [],
   "source": [
    "from keras.preprocessing import image\n",
    "from keras.applications.vgg16 import VGG16\n",
    "from keras.applications.vgg16 import preprocess_input\n",
    "from keras.models import Model\n",
    "import numpy as np\n",
    "import matplotlib.pyplot as plt\n",
    "%matplotlib inline"
   ]
  },
  {
   "cell_type": "code",
   "execution_count": 14,
   "metadata": {},
   "outputs": [
    {
     "name": "stdout",
     "output_type": "stream",
     "text": [
      "_________________________________________________________________\n",
      "Layer (type)                 Output Shape              Param #   \n",
      "=================================================================\n",
      "input_4 (InputLayer)         (None, None, None, 3)     0         \n",
      "_________________________________________________________________\n",
      "block1_conv1 (Conv2D)        (None, None, None, 64)    1792      \n",
      "_________________________________________________________________\n",
      "block1_conv2 (Conv2D)        (None, None, None, 64)    36928     \n",
      "_________________________________________________________________\n",
      "block1_pool (MaxPooling2D)   (None, None, None, 64)    0         \n",
      "_________________________________________________________________\n",
      "block2_conv1 (Conv2D)        (None, None, None, 128)   73856     \n",
      "_________________________________________________________________\n",
      "block2_conv2 (Conv2D)        (None, None, None, 128)   147584    \n",
      "_________________________________________________________________\n",
      "block2_pool (MaxPooling2D)   (None, None, None, 128)   0         \n",
      "_________________________________________________________________\n",
      "block3_conv1 (Conv2D)        (None, None, None, 256)   295168    \n",
      "_________________________________________________________________\n",
      "block3_conv2 (Conv2D)        (None, None, None, 256)   590080    \n",
      "_________________________________________________________________\n",
      "block3_conv3 (Conv2D)        (None, None, None, 256)   590080    \n",
      "_________________________________________________________________\n",
      "block3_pool (MaxPooling2D)   (None, None, None, 256)   0         \n",
      "_________________________________________________________________\n",
      "block4_conv1 (Conv2D)        (None, None, None, 512)   1180160   \n",
      "_________________________________________________________________\n",
      "block4_conv2 (Conv2D)        (None, None, None, 512)   2359808   \n",
      "_________________________________________________________________\n",
      "block4_conv3 (Conv2D)        (None, None, None, 512)   2359808   \n",
      "_________________________________________________________________\n",
      "block4_pool (MaxPooling2D)   (None, None, None, 512)   0         \n",
      "_________________________________________________________________\n",
      "block5_conv1 (Conv2D)        (None, None, None, 512)   2359808   \n",
      "_________________________________________________________________\n",
      "block5_conv2 (Conv2D)        (None, None, None, 512)   2359808   \n",
      "_________________________________________________________________\n",
      "block5_conv3 (Conv2D)        (None, None, None, 512)   2359808   \n",
      "_________________________________________________________________\n",
      "block5_pool (MaxPooling2D)   (None, None, None, 512)   0         \n",
      "=================================================================\n",
      "Total params: 14,714,688\n",
      "Trainable params: 14,714,688\n",
      "Non-trainable params: 0\n",
      "_________________________________________________________________\n",
      "(1, 7, 7, 512)\n"
     ]
    }
   ],
   "source": [
    "model = VGG16(weights='imagenet', include_top=False)\n",
    "model.summary()\n",
    "\n",
    "img_path = 'test/01.png'\n",
    "img = image.load_img(img_path, target_size=(224, 224))\n",
    "img_data = image.img_to_array(img)\n",
    "img_data = np.expand_dims(img_data, axis=0)\n",
    "img_data = preprocess_input(img_data)\n",
    "\n",
    "vgg16_feature = model.predict(img_data)\n",
    "\n",
    "print (vgg16_feature.shape)"
   ]
  },
  {
   "cell_type": "code",
   "execution_count": 15,
   "metadata": {},
   "outputs": [
    {
     "name": "stdout",
     "output_type": "stream",
     "text": [
      "(25088,)\n"
     ]
    }
   ],
   "source": [
    "vgg16_feature_np = np.array(vgg16_feature)\n",
    "vgg16_feature_f = vgg16_feature_np.flatten()\n",
    "print(vgg16_feature_f.shape)"
   ]
  },
  {
   "cell_type": "code",
   "execution_count": 19,
   "metadata": {},
   "outputs": [
    {
     "name": "stdout",
     "output_type": "stream",
     "text": [
      "(1, 1000)\n"
     ]
    }
   ],
   "source": [
    "model2 = VGG16(weights='imagenet', include_top=True)\n",
    "#model2.summary()\n",
    "\n",
    "img_path = 'test/03.png'\n",
    "img = image.load_img(img_path, target_size=(224, 224))\n",
    "img_data = image.img_to_array(img)\n",
    "img_data = np.expand_dims(img_data, axis=0)\n",
    "img_data = preprocess_input(img_data)\n",
    "\n",
    "vgg16_feature2 = model2.predict(img_data)\n",
    "\n",
    "print (vgg16_feature2.shape)"
   ]
  },
  {
   "cell_type": "code",
   "execution_count": 20,
   "metadata": {},
   "outputs": [
    {
     "name": "stdout",
     "output_type": "stream",
     "text": [
      "(1, 4096)\n",
      "(4096, 1)\n"
     ]
    },
    {
     "name": "stderr",
     "output_type": "stream",
     "text": [
      "/home/sol/.virtualenvs/maskrcnn/lib/python3.6/site-packages/ipykernel_launcher.py:1: UserWarning: Update your `Model` call to the Keras 2 API: `Model(inputs=Tensor(\"in..., outputs=Tensor(\"fc...)`\n",
      "  \"\"\"Entry point for launching an IPython kernel.\n"
     ]
    }
   ],
   "source": [
    "model_extractfeatures = Model(input=model2.input, output=model2.get_layer('fc2').output)\n",
    "fc2_features = model_extractfeatures.predict(img_data)\n",
    "print(fc2_features.shape)\n",
    "fc2_features = fc2_features.reshape((4096,1))\n",
    "print(fc2_features.shape)"
   ]
  },
  {
   "cell_type": "code",
   "execution_count": 9,
   "metadata": {},
   "outputs": [
    {
     "data": {
      "image/png": "[encoded data removed]",
      "text/plain": [
       "<Figure size 432x288 with 1 Axes>"
      ]
     },
     "metadata": {
      "needs_background": "light"
     },
     "output_type": "display_data"
    }
   ],
   "source": [
    "plt.plot(fc2_features)\n",
    "plt.show()"
   ]
  },
  {
   "cell_type": "code",
   "execution_count": 13,
   "metadata": {},
   "outputs": [
    {
     "data": {
      "image/png": "[encoded data removed]",
      "text/plain": [
       "<Figure size 432x288 with 1 Axes>"
      ]
     },
     "metadata": {
      "needs_background": "light"
     },
     "output_type": "display_data"
    }
   ],
   "source": [
    "plt.plot(fc2_features)\n",
    "plt.show()"
   ]
  },
  {
   "cell_type": "code",
   "execution_count": 18,
   "metadata": {},
   "outputs": [
    {
     "data": {
      "image/png": "[encoded data removed]",
      "text/plain": [
       "<Figure size 432x288 with 1 Axes>"
      ]
     },
     "metadata": {
      "needs_background": "light"
     },
     "output_type": "display_data"
    }
   ],
   "source": [
    "plt.plot(fc2_features)\n",
    "plt.show()"
   ]
  },
  {
   "cell_type": "code",
   "execution_count": 21,
   "metadata": {},
   "outputs": [
    {
     "data": {
      "image/png": "[encoded data removed]",
      "text/plain": [
       "<Figure size 432x288 with 1 Axes>"
      ]
     },
     "metadata": {
      "needs_background": "light"
     },
     "output_type": "display_data"
    }
   ],
   "source": [
    "plt.plot(fc2_features)\n",
    "plt.show()"
   ]
  },
  {
   "cell_type": "code",
   "execution_count": null,
   "metadata": {},
   "outputs": [],
   "source": []
  },
  {
   "cell_type": "code",
   "execution_count": 13,
   "metadata": {},
   "outputs": [
    {
     "name": "stdout",
     "output_type": "stream",
     "text": [
      "[2.03104559e-04 1.04009014e-04 1.86101344e-04 1.04513631e-04\n",
      " 1.77805035e-04 4.77893540e-04 2.17440375e-03 2.76478328e-04\n",
      " 2.30612830e-04 8.02150826e-05 4.97995497e-05 1.08465592e-05\n",
      " 8.39674103e-05 2.48040829e-04 1.65842386e-04 1.44940292e-04\n",
      " 1.35289767e-04 1.86866251e-04 6.37680714e-05 3.34004057e-04\n",
      " 6.43017847e-05 1.01954654e-04 5.25760624e-05 3.00415792e-04\n",
      " 2.40686655e-04 1.03383667e-04 2.22832939e-04 3.36215278e-04\n",
      " 6.73851871e-04 2.99281266e-04 8.96932324e-05 6.15060271e-05\n",
      " 4.09573520e-04 5.56037761e-04 1.30988052e-03 1.29401567e-04\n",
      " 9.14233853e-04 1.48900945e-04 1.72205240e-04 1.04056038e-04\n",
      " 5.96478021e-05 1.78268310e-04 5.72639619e-05 2.14476982e-04\n",
      " 3.98057629e-04 5.47781994e-04 4.85580385e-05 7.71568375e-05\n",
      " 1.59947031e-05 1.60297859e-04 8.83237284e-04 4.04267521e-05\n",
      " 3.28632392e-04 2.58294080e-04 2.63988506e-04 3.87209693e-05\n",
      " 3.96527117e-04 8.48970885e-05 8.56556944e-05 8.63645182e-05\n",
      " 4.98885813e-04 3.68053064e-04 2.68093019e-04 1.00989659e-04\n",
      " 5.44796530e-05 6.71965099e-05 5.31295445e-05 1.17037045e-04\n",
      " 1.13107795e-04 7.00892531e-04 1.46012098e-04 1.53025356e-03\n",
      " 6.93269758e-05 9.20455714e-05 1.00967460e-04 2.61422916e-04\n",
      " 3.71987233e-03 4.96852270e-04 1.61372940e-03 2.78090098e-04\n",
      " 9.73162023e-05 4.52282329e-05 7.36061193e-05 3.18386119e-05\n",
      " 1.24218932e-04 7.65023869e-05 1.21045632e-04 6.00223988e-03\n",
      " 4.74195171e-04 2.21662005e-04 9.29723552e-04 1.95766741e-04\n",
      " 3.08862727e-05 1.75411144e-04 9.24488850e-05 5.77241808e-05\n",
      " 2.41039481e-04 2.24261839e-05 2.73445476e-05 3.18355742e-05\n",
      " 8.61156805e-05 2.12238774e-05 6.24028500e-04 4.14484646e-03\n",
      " 5.79891668e-04 6.30478782e-04 4.85159428e-04 2.32156061e-04\n",
      " 9.34301861e-05 3.73216404e-04 2.22849616e-04 2.07082106e-04\n",
      " 7.93495274e-04 2.85949238e-04 2.48858269e-04 9.16257923e-05\n",
      " 1.88857492e-04 2.20083064e-04 4.72725835e-04 3.25356930e-04\n",
      " 1.42141842e-04 1.35199036e-04 1.16023642e-03 1.27627529e-04\n",
      " 1.00305106e-03 3.02714092e-04 4.57026035e-04 1.74776433e-05\n",
      " 3.92312031e-05 2.58526106e-05 6.59069628e-05 3.61844504e-05\n",
      " 1.83470602e-05 2.19114463e-05 2.23129900e-05 6.41797378e-05\n",
      " 3.55309712e-05 4.31190056e-05 3.97733347e-05 3.44313958e-05\n",
      " 2.53763428e-04 2.37269469e-05 3.60249251e-05 3.88223962e-05\n",
      " 1.53227738e-05 5.80404303e-05 7.59480245e-05 9.15271885e-05\n",
      " 5.28138626e-05 5.68698597e-05 3.99351738e-05 2.33464013e-03\n",
      " 3.18153296e-04 2.30272161e-03 2.24465015e-03 3.91316134e-03\n",
      " 6.69305155e-04 8.02842202e-04 4.78103000e-04 1.24427650e-04\n",
      " 4.60381940e-04 2.32514794e-04 2.49776174e-04 2.22097908e-04\n",
      " 3.26505600e-04 3.40870320e-04 6.30073337e-05 3.41865234e-05\n",
      " 5.81908738e-04 1.82428732e-04 8.47272400e-04 7.92563485e-04\n",
      " 2.37354470e-04 7.20294847e-05 2.57202337e-04 4.17429052e-04\n",
      " 6.58017962e-05 2.82633561e-03 3.79861653e-04 5.65790338e-04\n",
      " 1.69676336e-04 1.21911219e-03 1.97402015e-03 7.96290301e-03\n",
      " 1.62197149e-03 8.15739506e-04 9.38113779e-04 2.41665752e-03\n",
      " 4.79919807e-04 1.74803450e-03 4.37893468e-04 1.88524055e-03\n",
      " 4.96126991e-03 2.13329005e-03 1.02789875e-03 7.72894011e-04\n",
      " 3.43635352e-03 1.62715092e-03 9.22860170e-04 6.92512048e-03\n",
      " 5.75293903e-04 1.00597669e-03 2.29394878e-03 1.03637727e-03\n",
      " 4.87620290e-03 1.20454084e-03 1.51865347e-03 1.61611650e-04\n",
      " 4.99595015e-04 7.32121174e-04 2.73381214e-04 6.46000379e-04\n",
      " 4.13537840e-04 3.54470190e-04 1.69336062e-03 4.23800055e-04\n",
      " 3.09560157e-04 7.20635988e-04 2.44584313e-04 8.96808342e-04\n",
      " 5.75944083e-04 7.44519639e-04 3.64380190e-04 2.52412399e-03\n",
      " 1.00441941e-03 2.91291450e-04 1.53904513e-03 1.85290613e-04\n",
      " 5.16450033e-04 1.07941241e-03 6.98406075e-04 1.31012217e-04\n",
      " 1.79044888e-04 5.99935371e-03 4.54081775e-04 1.79861483e-04\n",
      " 3.18064267e-04 1.47069537e-03 4.82853124e-04 9.42072074e-04\n",
      " 3.31474497e-04 2.72574194e-04 5.66580624e-04 4.94084961e-04\n",
      " 1.17500778e-03 1.67756341e-03 1.57366987e-04 3.46107845e-04\n",
      " 9.50926988e-05 9.84484504e-05 1.34783535e-04 1.25013088e-04\n",
      " 2.23807096e-02 1.77911308e-04 1.75627402e-03 2.44482042e-04\n",
      " 1.01967249e-03 1.94801658e-04 3.23097076e-04 1.91465474e-03\n",
      " 7.02812162e-04 4.79501177e-04 2.02963990e-03 4.62267781e-04\n",
      " 1.78956208e-04 2.20103748e-02 8.78413394e-03 2.23665033e-03\n",
      " 1.44418958e-03 4.98232293e-05 4.17530537e-05 2.95186965e-05\n",
      " 4.53104549e-05 6.87042120e-05 1.62460856e-05 1.91267445e-05\n",
      " 1.56285154e-04 5.11500584e-05 3.12385528e-05 1.29140084e-04\n",
      " 7.78623871e-05 6.50974223e-04 5.40095964e-04 2.84396182e-03\n",
      " 8.86718684e-04 5.00753173e-04 9.46978980e-05 2.42058610e-04\n",
      " 5.65475857e-05 6.30302020e-05 6.72872193e-05 1.93341639e-05\n",
      " 4.33283276e-05 7.50526815e-05 1.98900725e-05 7.09429733e-05\n",
      " 6.56521152e-05 1.15003095e-04 7.32511253e-05 6.20849460e-05\n",
      " 5.18994457e-05 8.03766452e-05 6.06536923e-04 3.65465326e-04\n",
      " 9.57411394e-05 4.86811943e-04 1.52965984e-03 2.37612869e-04\n",
      " 2.08169746e-04 1.89146085e-04 2.11828403e-04 3.63390645e-05\n",
      " 1.67237988e-04 3.25663772e-04 1.06487446e-03 4.32752640e-05\n",
      " 1.59540505e-04 4.83773110e-05 9.44165949e-05 3.94874587e-05\n",
      " 4.57934584e-05 8.79274594e-05 3.49343580e-04 2.03382020e-04\n",
      " 5.81454115e-05 7.70539627e-05 8.08010518e-05 7.77215813e-04\n",
      " 6.03246153e-04 8.15237523e-04 5.81995351e-04 2.27961020e-04\n",
      " 5.49862161e-03 3.32865119e-03 3.76127980e-04 2.22447241e-04\n",
      " 4.89508820e-05 7.14150839e-04 2.80046836e-03 6.08078626e-05\n",
      " 5.11010112e-05 1.29672975e-04 1.12989583e-04 1.26097017e-04\n",
      " 6.13314187e-05 7.26096478e-05 5.10452410e-05 1.82498261e-04\n",
      " 7.07706859e-05 2.23773259e-05 2.46463696e-05 1.88428603e-05\n",
      " 3.58412799e-05 2.39919391e-05 6.22482839e-05 3.83915525e-04\n",
      " 7.55869201e-04 1.11269415e-03 7.67499383e-04 1.50798808e-03\n",
      " 1.31867928e-04 1.77149090e-03 2.81226210e-04 2.98012019e-04\n",
      " 4.24329046e-04 2.80567503e-04 2.94318917e-04 3.34294367e-04\n",
      " 2.40137088e-04 3.25217639e-04 1.57953604e-04 1.21169032e-04\n",
      " 9.98910837e-05 1.22385551e-04 1.92899184e-04 7.68238169e-05\n",
      " 1.29013541e-04 1.15759380e-03 5.58410538e-04 4.68682643e-04\n",
      " 7.45869242e-04 3.82752420e-04 3.52468371e-04 1.76204936e-04\n",
      " 2.39805828e-04 1.61123426e-05 1.75721543e-05 7.95360902e-05\n",
      " 8.07457327e-05 8.21929643e-05 5.51268895e-05 5.20192152e-05\n",
      " 3.49964284e-05 1.23282050e-04 1.04180159e-04 6.00318963e-05\n",
      " 2.83224927e-05 1.82007323e-04 2.94439238e-03 2.34714171e-04\n",
      " 2.38745313e-04 1.67473964e-03 2.19901535e-03 2.31752783e-05\n",
      " 1.39877429e-05 6.25007015e-05 3.60115264e-05 1.66987520e-05\n",
      " 1.35373466e-05 6.26380352e-05 1.80519652e-04 1.95254383e-04\n",
      " 2.01720104e-05 1.88901540e-04 3.98091972e-04 1.58316820e-04\n",
      " 8.46030962e-05 3.64457024e-04 3.53607174e-04 8.86834785e-03\n",
      " 2.61856010e-03 3.88714434e-05 1.04467887e-04 1.14468312e-04\n",
      " 2.98592192e-03 1.93258875e-05 3.22520034e-04 4.86516983e-05\n",
      " 4.75121051e-05 1.70430460e-04 1.55999398e-04 3.34186916e-04\n",
      " 1.31703285e-03 5.96942089e-04 6.29413361e-03 1.90991792e-03\n",
      " 2.83635782e-05 2.96049075e-05 4.73341643e-04 1.89587101e-03\n",
      " 4.22820274e-04 5.01955685e-04 4.60206538e-05 1.80807733e-03\n",
      " 1.53809415e-05 7.48692080e-04 1.58992698e-04 1.45309546e-03\n",
      " 8.79088839e-05 1.28608335e-05 4.53551584e-05 3.36872903e-03\n",
      " 1.26523394e-02 3.20793130e-04 1.85860030e-04 8.01889575e-04\n",
      " 1.30089594e-03 1.49472756e-02 9.46253640e-05 2.19609495e-03\n",
      " 1.48862537e-05 2.31022044e-04 1.66174155e-04 3.05539783e-04\n",
      " 1.02890399e-03 7.19380041e-05 3.02723638e-05 4.56990929e-05\n",
      " 2.61175937e-05 9.63395069e-05 8.86199588e-04 3.36075318e-05\n",
      " 3.05331050e-05 3.88941786e-04 1.95659348e-03 1.16948562e-04\n",
      " 1.57727365e-04 1.45627375e-04 3.91432317e-04 1.18321468e-05\n",
      " 6.61613827e-04 3.25180736e-04 1.75321416e-04 1.58379953e-05\n",
      " 2.82343590e-05 2.47995078e-04 1.87345815e-03 5.11419540e-03\n",
      " 3.44821659e-04 6.13705561e-05 2.07274035e-03 1.93416898e-04\n",
      " 2.36416483e-04 5.77500068e-05 1.25971113e-04 1.11383059e-04\n",
      " 3.40701197e-03 2.07435205e-05 3.61529201e-05 8.13995255e-04\n",
      " 3.42418934e-05 1.53119816e-03 4.80818824e-04 1.52690132e-04\n",
      " 1.81517727e-03 4.74014705e-05 5.69633812e-05 2.61918380e-04\n",
      " 7.42021773e-04 2.26200384e-04 5.32797349e-05 3.47101159e-05\n",
      " 2.91201024e-04 8.63563619e-04 2.13208201e-04 4.13343264e-03\n",
      " 8.76429840e-04 2.21499722e-05 9.73700880e-05 5.75313898e-05\n",
      " 4.45467245e-04 6.02811109e-04 1.66678714e-04 7.87756639e-04\n",
      " 1.30720422e-04 7.38003655e-05 1.78117742e-04 2.57296924e-04\n",
      " 8.19828943e-04 3.26957507e-03 1.95393150e-04 7.55817338e-04\n",
      " 7.99751069e-05 3.19776766e-04 3.18688661e-04 1.70361145e-05\n",
      " 7.98414021e-06 1.50550213e-05 3.26333284e-05 2.88411276e-04\n",
      " 3.29741670e-05 9.79468692e-04 4.92645102e-03 4.55814414e-04\n",
      " 7.77795212e-05 1.66189682e-04 1.79510028e-03 7.22523509e-06\n",
      " 9.75065050e-05 4.61136398e-04 3.00832235e-05 2.46816664e-03\n",
      " 6.07853476e-03 1.03702863e-04 4.24726786e-05 4.44588040e-05\n",
      " 8.14034429e-05 6.01840911e-05 5.88240707e-03 8.81492815e-05\n",
      " 4.19292483e-05 1.11724930e-05 5.99109590e-05 3.13225726e-04\n",
      " 6.02723412e-05 1.19354609e-05 1.03444629e-03 2.54801940e-04\n",
      " 1.10070324e-02 1.49951411e-05 5.75562764e-04 1.52167768e-05\n",
      " 8.31108191e-04 1.56060469e-05 9.87106105e-05 3.55563607e-05\n",
      " 2.71813988e-05 1.92013409e-04 2.76104576e-04 2.13062565e-04\n",
      " 1.13731912e-04 1.12408497e-05 3.92288821e-05 6.79753794e-05\n",
      " 4.34255637e-02 7.55289895e-03 3.41840750e-05 9.51077149e-04\n",
      " 2.31730912e-04 5.38801448e-03 1.37469626e-03 8.53058975e-03\n",
      " 5.12153674e-05 8.46142601e-03 4.13919007e-03 7.84731037e-06\n",
      " 7.39515934e-04 5.84686233e-04 2.66682491e-05 1.40207310e-04\n",
      " 3.34514887e-04 2.87132658e-04 2.47025146e-05 1.32665500e-05\n",
      " 2.61103007e-04 4.87967714e-04 3.66713648e-04 2.23928029e-04\n",
      " 3.17561877e-04 7.90441663e-06 1.20985392e-03 2.16070889e-03\n",
      " 2.53495291e-05 5.03105111e-04 8.12739017e-04 6.53246680e-05\n",
      " 1.36279559e-03 2.55739456e-03 1.10101886e-03 7.59425238e-05\n",
      " 1.18538667e-03 5.15561260e-05 2.25743954e-03 1.41861115e-03\n",
      " 3.39328428e-04 1.20038831e-05 2.06727814e-03 5.91415301e-05\n",
      " 3.27709895e-05 2.80139176e-03 3.18591134e-04 1.21477735e-03\n",
      " 4.12455265e-05 4.57074959e-03 3.05401227e-05 1.89939616e-04\n",
      " 4.29682317e-04 4.36144037e-05 3.38814920e-04 2.68968230e-04\n",
      " 4.37285016e-05 2.30750954e-03 5.87575021e-04 1.94572378e-03\n",
      " 1.15089666e-03 5.24641691e-05 1.16063311e-04 3.28380178e-04\n",
      " 1.14542287e-04 3.06758884e-05 2.74486677e-03 7.34880086e-05\n",
      " 9.82416910e-04 4.75931884e-05 9.80057812e-05 4.05578932e-04\n",
      " 4.28330750e-05 1.89536095e-05 2.94596832e-02 3.15315177e-04\n",
      " 3.20629042e-05 1.61978187e-05 1.26420142e-04 1.79261024e-05\n",
      " 1.56921524e-04 1.03594575e-05 2.83057132e-04 8.06814292e-04\n",
      " 5.38843960e-05 3.33601172e-04 1.13196929e-05 1.26376071e-05\n",
      " 3.84972845e-05 1.09924632e-03 5.80953376e-04 1.40184584e-05\n",
      " 2.25112104e-04 3.25099332e-04 4.83915256e-03 3.21568106e-03\n",
      " 8.97426531e-03 1.21219899e-03 4.55054978e-05 3.62155749e-03\n",
      " 1.48032513e-03 3.95052011e-05 4.34189787e-05 1.65448248e-04\n",
      " 2.03648218e-04 1.56713184e-04 1.43912030e-05 1.38764805e-03\n",
      " 3.07494047e-04 9.29025482e-05 1.32793022e-04 1.51055166e-04\n",
      " 1.82222610e-03 6.64845924e-04 3.95117568e-05 2.17798399e-03\n",
      " 1.41957134e-03 2.46318377e-04 4.73622276e-05 5.31843471e-05\n",
      " 3.71143215e-05 2.30284604e-05 2.56475596e-05 2.22686780e-04\n",
      " 4.73973596e-05 1.94300519e-04 1.81053954e-04 4.33441572e-04\n",
      " 1.17374165e-03 2.46838666e-04 1.57652032e-02 1.71068212e-04\n",
      " 1.43931524e-04 7.09193591e-06 3.37506863e-05 6.96002389e-04\n",
      " 1.05974777e-03 8.15694395e-04 2.49420316e-03 1.20934006e-03\n",
      " 2.66185234e-05 1.85796234e-04 1.30560584e-04 8.54411264e-05\n",
      " 3.04656394e-04 9.96961244e-05 2.56879975e-05 3.24034854e-03\n",
      " 1.52998939e-04 4.69547231e-05 7.97046232e-06 1.80387567e-03\n",
      " 1.43597543e-04 3.68333800e-04 2.67984782e-04 2.27171322e-03\n",
      " 1.65920623e-03 1.08314480e-03 7.68013342e-05 9.38088779e-05\n",
      " 2.06985242e-05 9.74659197e-05 1.31708442e-03 1.17635040e-03\n",
      " 1.11778011e-03 7.18422886e-03 4.03083337e-04 8.34589355e-06\n",
      " 1.12943686e-04 1.66810787e-04 1.03374550e-04 5.56930136e-05\n",
      " 6.86228523e-05 2.31126396e-05 2.03542106e-04 4.43282595e-04\n",
      " 2.61280831e-04 3.83317284e-03 1.37884534e-04 1.08317111e-03\n",
      " 9.41584411e-04 1.09088644e-04 4.02030091e-05 5.48170821e-04\n",
      " 1.26746803e-04 1.57838035e-03 9.87489766e-05 2.25628799e-04\n",
      " 3.60423070e-03 1.75667679e-04 5.63484617e-04 2.58494314e-04\n",
      " 7.18900701e-04 4.54733323e-04 8.53086531e-05 6.96580755e-05\n",
      " 8.43155794e-05 2.74705326e-05 1.05059553e-04 2.07124554e-04\n",
      " 2.68923352e-03 2.63427547e-03 5.81117347e-04 2.23305105e-04\n",
      " 3.17063794e-04 8.76325357e-04 4.89655904e-05 2.26985241e-04\n",
      " 2.81197135e-04 3.84370866e-03 8.00397014e-04 2.45658128e-04\n",
      " 2.19350774e-03 9.78083001e-04 6.84699742e-04 5.39219727e-05\n",
      " 3.20195744e-04 2.03417047e-04 2.17795077e-05 6.33879390e-05\n",
      " 8.50847719e-05 1.21935620e-04 1.26288133e-03 2.57076772e-05\n",
      " 2.00189836e-03 9.89228720e-04 7.54438981e-04 3.20656749e-04\n",
      " 3.33967255e-05 2.88300985e-03 2.75171515e-05 6.37980920e-05\n",
      " 9.83634032e-03 3.26861687e-06 5.68092291e-05 3.43115360e-04\n",
      " 2.46571599e-05 2.36966443e-05 1.70708619e-04 2.09609559e-03\n",
      " 1.38450544e-02 1.48401869e-05 9.33292438e-04 2.54900860e-05\n",
      " 4.56618232e-04 4.40752738e-05 5.59426990e-05 2.04041877e-04\n",
      " 7.08020452e-05 1.55579000e-05 2.11357535e-03 2.49761888e-05\n",
      " 1.44751125e-03 2.32229405e-03 8.40283744e-03 2.61071855e-05\n",
      " 2.63471913e-04 1.80161837e-03 2.12042039e-04 7.49981322e-04\n",
      " 1.09735731e-04 2.48584989e-03 3.87963737e-05 2.58361943e-05\n",
      " 2.81763409e-04 1.73730339e-04 4.58508031e-03 4.12087276e-04\n",
      " 5.39574947e-04 8.46903567e-05 1.20069395e-04 1.46400009e-03\n",
      " 1.21728854e-05 1.59673073e-04 2.11012721e-05 1.16595998e-04\n",
      " 1.33812006e-04 3.60179198e-04 7.12419642e-05 1.80736242e-05\n",
      " 1.32849200e-05 1.47609389e-04 2.28761146e-05 9.81686844e-06\n",
      " 2.21559414e-04 3.97432887e-04 6.38484271e-05 1.87708138e-05\n",
      " 1.29993859e-04 9.31078393e-05 2.40882764e-05 2.41134214e-04\n",
      " 2.37849238e-03 1.70392013e-05 2.56203028e-04 1.93026615e-04\n",
      " 4.30328182e-05 3.72469163e-04 8.60467262e-05 2.10400045e-04\n",
      " 3.89471425e-05 1.92768697e-03 2.84792332e-05 5.53396938e-04\n",
      " 2.21711070e-05 8.84830207e-03 3.07624832e-05 4.21021279e-04\n",
      " 2.82346038e-04 3.03884386e-04 1.36833303e-04 1.03949751e-05\n",
      " 1.53771805e-04 2.76237581e-04 7.16614770e-04 2.48934346e-04\n",
      " 2.96675953e-05 1.89572806e-04 1.71924895e-03 1.17964998e-01\n",
      " 4.04809951e-04 9.45815700e-04 4.52614063e-03 1.89798375e-04\n",
      " 1.54542540e-05 1.36407631e-04 4.47922060e-03 1.24825528e-02\n",
      " 2.55522718e-05 3.14887839e-05 3.21048865e-05 3.00051724e-05\n",
      " 2.75964790e-04 2.18679736e-04 6.42859191e-03 1.72625769e-05\n",
      " 1.48591353e-05 6.72136201e-04 4.82535019e-04 5.36403211e-04\n",
      " 2.96727318e-04 2.16757078e-04 8.94638943e-05 3.34178651e-04\n",
      " 5.55447943e-04 2.60850135e-02 9.40030368e-05 4.67763253e-04\n",
      " 3.31193267e-04 8.01846734e-04 1.65602495e-03 2.81040819e-04\n",
      " 3.19162995e-04 4.44275269e-04 9.63885832e-05 1.96510286e-04\n",
      " 3.64591018e-04 3.20137275e-04 3.90124769e-04 3.23384709e-04\n",
      " 7.64399229e-05 3.17292026e-04 3.57539866e-05 5.35098261e-05\n",
      " 8.84765701e-04 6.04031957e-04 4.18951327e-04 3.44712345e-04\n",
      " 3.95048817e-04 2.50993500e-04 5.58078871e-04 2.67634634e-04\n",
      " 2.64906237e-04 5.82202978e-04 1.69191902e-04 2.26409727e-04\n",
      " 5.32906153e-04 7.21330463e-04 1.31820969e-04 1.73118795e-04\n",
      " 1.37246549e-04 3.89182754e-03 7.41419732e-04 4.31455410e-04\n",
      " 5.55421924e-04 1.03318866e-03 1.12356043e-04 9.65719111e-04\n",
      " 4.57330789e-05 6.64199179e-05 7.16711802e-05 4.39712130e-05\n",
      " 8.11872960e-05 2.65160896e-04 7.16376235e-05 4.05117353e-05\n",
      " 6.33989694e-05 1.55457237e-04 3.51577718e-03 3.89763482e-05\n",
      " 1.27907711e-04 2.03753501e-04 2.58564323e-05 6.93473441e-04\n",
      " 3.51022725e-04 4.09435277e-04 2.15563181e-04 4.70911364e-05\n",
      " 6.73301256e-05 1.63452045e-04 3.18466264e-05 6.04516317e-05\n",
      " 2.15291366e-04 3.03620036e-04 9.78859025e-04 8.66963819e-04]\n"
     ]
    }
   ],
   "source": [
    "print(vgg16_feature2[0])"
   ]
  },
  {
   "cell_type": "code",
   "execution_count": null,
   "metadata": {},
   "outputs": [],
   "source": [
    "2.15291366e-04 3.03620036e-04 9.78859025e-04 8.66963819e-04"
   ]
  },
  {
   "cell_type": "code",
   "execution_count": 5,
   "metadata": {},
   "outputs": [
    {
     "name": "stdout",
     "output_type": "stream",
     "text": [
      "_________________________________________________________________\n",
      "Layer (type)                 Output Shape              Param #   \n",
      "=================================================================\n",
      "input_3 (InputLayer)         (None, 224, 224, 3)       0         \n",
      "_________________________________________________________________\n",
      "block1_conv1 (Conv2D)        (None, 224, 224, 64)      1792      \n",
      "_________________________________________________________________\n",
      "block1_conv2 (Conv2D)        (None, 224, 224, 64)      36928     \n",
      "_________________________________________________________________\n",
      "block1_pool (MaxPooling2D)   (None, 112, 112, 64)      0         \n",
      "_________________________________________________________________\n",
      "block2_conv1 (Conv2D)        (None, 112, 112, 128)     73856     \n",
      "_________________________________________________________________\n",
      "block2_conv2 (Conv2D)        (None, 112, 112, 128)     147584    \n",
      "_________________________________________________________________\n",
      "block2_pool (MaxPooling2D)   (None, 56, 56, 128)       0         \n",
      "_________________________________________________________________\n",
      "block3_conv1 (Conv2D)        (None, 56, 56, 256)       295168    \n",
      "_________________________________________________________________\n",
      "block3_conv2 (Conv2D)        (None, 56, 56, 256)       590080    \n",
      "_________________________________________________________________\n",
      "block3_conv3 (Conv2D)        (None, 56, 56, 256)       590080    \n",
      "_________________________________________________________________\n",
      "block3_pool (MaxPooling2D)   (None, 28, 28, 256)       0         \n",
      "_________________________________________________________________\n",
      "block4_conv1 (Conv2D)        (None, 28, 28, 512)       1180160   \n",
      "_________________________________________________________________\n",
      "block4_conv2 (Conv2D)        (None, 28, 28, 512)       2359808   \n",
      "_________________________________________________________________\n",
      "block4_conv3 (Conv2D)        (None, 28, 28, 512)       2359808   \n",
      "_________________________________________________________________\n",
      "block4_pool (MaxPooling2D)   (None, 14, 14, 512)       0         \n",
      "_________________________________________________________________\n",
      "block5_conv1 (Conv2D)        (None, 14, 14, 512)       2359808   \n",
      "_________________________________________________________________\n",
      "block5_conv2 (Conv2D)        (None, 14, 14, 512)       2359808   \n",
      "_________________________________________________________________\n",
      "block5_conv3 (Conv2D)        (None, 14, 14, 512)       2359808   \n",
      "_________________________________________________________________\n",
      "block5_pool (MaxPooling2D)   (None, 7, 7, 512)         0         \n",
      "_________________________________________________________________\n",
      "flatten (Flatten)            (None, 25088)             0         \n",
      "_________________________________________________________________\n",
      "fc1 (Dense)                  (None, 4096)              102764544 \n",
      "_________________________________________________________________\n",
      "fc2 (Dense)                  (None, 4096)              16781312  \n",
      "=================================================================\n",
      "Total params: 134,260,544\n",
      "Trainable params: 134,260,544\n",
      "Non-trainable params: 0\n",
      "_________________________________________________________________\n",
      "(1, 1000)\n"
     ]
    }
   ],
   "source": [
    "model3 = VGG16(weights='imagenet', include_top=True)\n",
    "model3.layers.pop()\n",
    "model3.summary()\n",
    "\n",
    "img_path = 'test/01.png'\n",
    "img = image.load_img(img_path, target_size=(224, 224))\n",
    "img_data = image.img_to_array(img)\n",
    "img_data = np.expand_dims(img_data, axis=0)\n",
    "img_data = preprocess_input(img_data)\n",
    "\n",
    "vgg16_feature3 = model3.predict(img_data)\n",
    "\n",
    "print (vgg16_feature3.shape)"
   ]
  },
  {
   "cell_type": "code",
   "execution_count": 10,
   "metadata": {},
   "outputs": [
    {
     "name": "stdout",
     "output_type": "stream",
     "text": [
      "_________________________________________________________________\n",
      "Layer (type)                 Output Shape              Param #   \n",
      "=================================================================\n",
      "input_2 (InputLayer)         (None, None, None, 3)     0         \n",
      "_________________________________________________________________\n",
      "block1_conv1 (Conv2D)        (None, None, None, 64)    1792      \n",
      "_________________________________________________________________\n",
      "block1_conv2 (Conv2D)        (None, None, None, 64)    36928     \n",
      "_________________________________________________________________\n",
      "block1_pool (MaxPooling2D)   (None, None, None, 64)    0         \n",
      "_________________________________________________________________\n",
      "block2_conv1 (Conv2D)        (None, None, None, 128)   73856     \n",
      "_________________________________________________________________\n",
      "block2_conv2 (Conv2D)        (None, None, None, 128)   147584    \n",
      "_________________________________________________________________\n",
      "block2_pool (MaxPooling2D)   (None, None, None, 128)   0         \n",
      "_________________________________________________________________\n",
      "block3_conv1 (Conv2D)        (None, None, None, 256)   295168    \n",
      "_________________________________________________________________\n",
      "block3_conv2 (Conv2D)        (None, None, None, 256)   590080    \n",
      "_________________________________________________________________\n",
      "block3_conv3 (Conv2D)        (None, None, None, 256)   590080    \n",
      "_________________________________________________________________\n",
      "block3_pool (MaxPooling2D)   (None, None, None, 256)   0         \n",
      "_________________________________________________________________\n",
      "block4_conv1 (Conv2D)        (None, None, None, 512)   1180160   \n",
      "_________________________________________________________________\n",
      "block4_conv2 (Conv2D)        (None, None, None, 512)   2359808   \n",
      "_________________________________________________________________\n",
      "block4_conv3 (Conv2D)        (None, None, None, 512)   2359808   \n",
      "_________________________________________________________________\n",
      "block4_pool (MaxPooling2D)   (None, None, None, 512)   0         \n",
      "_________________________________________________________________\n",
      "block5_conv1 (Conv2D)        (None, None, None, 512)   2359808   \n",
      "_________________________________________________________________\n",
      "block5_conv2 (Conv2D)        (None, None, None, 512)   2359808   \n",
      "_________________________________________________________________\n",
      "block5_conv3 (Conv2D)        (None, None, None, 512)   2359808   \n",
      "_________________________________________________________________\n",
      "block5_pool (MaxPooling2D)   (None, None, None, 512)   0         \n",
      "=================================================================\n",
      "Total params: 14,714,688\n",
      "Trainable params: 14,714,688\n",
      "Non-trainable params: 0\n",
      "_________________________________________________________________\n",
      "(1, 7, 7, 512)\n"
     ]
    },
    {
     "data": {
      "image/png": "[encoded data removed]",
      "text/plain": [
       "<Figure size 432x288 with 1 Axes>"
      ]
     },
     "metadata": {
      "needs_background": "light"
     },
     "output_type": "display_data"
    }
   ],
   "source": [
    "import pylab\n",
    "model4 = VGG16(weights='imagenet', include_top=False)\n",
    "model4.summary()\n",
    "\n",
    "img_path = 'test/01.png'\n",
    "img = image.load_img(img_path, target_size=(224, 224))\n",
    "img_data = image.img_to_array(img)\n",
    "img_data = np.expand_dims(img_data, axis=0)\n",
    "img_data = preprocess_input(img_data)\n",
    "\n",
    "vgg16_feature4 = model4.predict(img_data)\n",
    "\n",
    "print (vgg16_feature4.shape)\n",
    "\n",
    "#features = model.predict(x)\n",
    "pic=vgg16_feature4[0,:,:,128]\n",
    "pylab.imshow(pic)\n",
    "pylab.gray()\n",
    "pylab.show()"
   ]
  },
  {
   "cell_type": "code",
   "execution_count": 3,
   "metadata": {},
   "outputs": [
    {
     "name": "stdout",
     "output_type": "stream",
     "text": [
      "(1, 1000)\n"
     ]
    }
   ],
   "source": [
    "print (vgg16_feature.shape)\n"
   ]
  },
  {
   "cell_type": "code",
   "execution_count": null,
   "metadata": {},
   "outputs": [],
   "source": [
    "from keras.applications import vgg16\n",
    "from keras.preprocessing import image\n",
    "from keras.applications.vgg16 import preprocess_input\n",
    "from keras.models import Model\n",
    "import numpy as np\n",
    "import matplotlib.pyplot as plt\n",
    "\n",
    "img_path = '1.png'\n",
    "img = image.load_img(img_path, target_size=(224, 224))\n",
    "model = vgg16.VGG16(weights='imagenet', include_top=True)\n",
    "x = image.img_to_array(img)\n",
    "x = np.expand_dims(x, axis=0)\n",
    "x = preprocess_input(x)\n",
    "features = model.predict(x)\n",
    "model_extractfeatures = Model(input=model.input, output=model.get_layer('fc2').output)\n",
    "fc2_features = model_extractfeatures.predict(x)\n",
    "fc2_features = fc2_features.reshape((4096,1))\n",
    "#np.savetxt('fc2.txt',fc2_features)\n",
    "#plt.plot(fc2_features)\n",
    "#plt.show()"
   ]
  }
 ],
 "metadata": {
  "kernelspec": {
   "display_name": "Python 3",
   "language": "python",
   "name": "python3"
  },
  "language_info": {
   "codemirror_mode": {
    "name": "ipython",
    "version": 3
   },
   "file_extension": ".py",
   "mimetype": "text/x-python",
   "name": "python",
   "nbconvert_exporter": "python",
   "pygments_lexer": "ipython3",
   "version": "3.6.8"
  }
 },
 "nbformat": 4,
 "nbformat_minor": 2
}
